{
 "cells": [
  {
   "cell_type": "markdown",
   "id": "10ff5eb1-7e15-410a-902a-0d9297053a6e",
   "metadata": {},
   "source": [
    "#### Install the required dependencies for the project\n",
    "\n",
    "- This is separated from the other code to keep track of what have been installed."
   ]
  },
  {
   "cell_type": "code",
   "execution_count": 1,
   "id": "0e98d66a-b8ce-42fb-83f7-e9d704adc202",
   "metadata": {},
   "outputs": [
    {
     "name": "stdout",
     "output_type": "stream",
     "text": [
      "Collecting opencv-python\n",
      "  Using cached opencv_python-4.5.2.54-cp38-cp38-win_amd64.whl (34.7 MB)\n",
      "Collecting numpy>=1.17.3\n",
      "  Using cached numpy-1.20.3-cp38-cp38-win_amd64.whl (13.7 MB)\n",
      "Installing collected packages: numpy, opencv-python\n",
      "Successfully installed numpy-1.20.3 opencv-python-4.5.2.54\n"
     ]
    }
   ],
   "source": [
    "!pip install opencv-python --upgrade"
   ]
  },
  {
   "cell_type": "code",
   "execution_count": 2,
   "id": "444ae71e-81b6-4dc2-ae2e-aa19311118de",
   "metadata": {},
   "outputs": [
    {
     "name": "stdout",
     "output_type": "stream",
     "text": [
      "Collecting wget\n",
      "  Using cached wget-3.2.zip (10 kB)\n",
      "Using legacy 'setup.py install' for wget, since package 'wheel' is not installed.\n",
      "Installing collected packages: wget\n",
      "    Running setup.py install for wget: started\n",
      "    Running setup.py install for wget: finished with status 'done'\n",
      "Successfully installed wget-3.2\n"
     ]
    }
   ],
   "source": [
    "!pip install wget --upgrade"
   ]
  },
  {
   "cell_type": "code",
   "execution_count": 4,
   "id": "40f150a5-1eba-47b9-9a17-1d976b928529",
   "metadata": {},
   "outputs": [
    {
     "name": "stdout",
     "output_type": "stream",
     "text": [
      "Requirement already satisfied: urllib3 in d:\\esimp\\computing\\bsl fingerspelling recognition\\bslfsr_venv\\lib\\site-packages (1.26.5)\n"
     ]
    }
   ],
   "source": [
    "!pip install urllib3 --upgrade"
   ]
  },
  {
   "cell_type": "code",
   "execution_count": 5,
   "id": "4402296b-f139-43ad-9010-b5415dc05c4c",
   "metadata": {},
   "outputs": [
    {
     "name": "stdout",
     "output_type": "stream",
     "text": [
      "Collecting matplotlib\n",
      "  Using cached matplotlib-3.4.2-cp38-cp38-win_amd64.whl (7.1 MB)\n",
      "Requirement already satisfied: numpy>=1.16 in d:\\esimp\\computing\\bsl fingerspelling recognition\\bslfsr_venv\\lib\\site-packages (from matplotlib) (1.20.3)\n",
      "Collecting cycler>=0.10\n",
      "  Using cached cycler-0.10.0-py2.py3-none-any.whl (6.5 kB)\n",
      "Collecting kiwisolver>=1.0.1\n",
      "  Using cached kiwisolver-1.3.1-cp38-cp38-win_amd64.whl (51 kB)\n",
      "Requirement already satisfied: python-dateutil>=2.7 in d:\\esimp\\computing\\bsl fingerspelling recognition\\bslfsr_venv\\lib\\site-packages (from matplotlib) (2.8.1)\n",
      "Collecting pyparsing>=2.2.1\n",
      "  Using cached pyparsing-2.4.7-py2.py3-none-any.whl (67 kB)\n",
      "Collecting pillow>=6.2.0\n",
      "  Using cached Pillow-8.2.0-cp38-cp38-win_amd64.whl (2.2 MB)\n",
      "Requirement already satisfied: six in d:\\esimp\\computing\\bsl fingerspelling recognition\\bslfsr_venv\\lib\\site-packages (from cycler>=0.10->matplotlib) (1.15.0)\n",
      "Installing collected packages: pyparsing, pillow, kiwisolver, cycler, matplotlib\n",
      "Successfully installed cycler-0.10.0 kiwisolver-1.3.1 matplotlib-3.4.2 pillow-8.2.0 pyparsing-2.4.7\n"
     ]
    }
   ],
   "source": [
    "!pip install matplotlib --upgrade"
   ]
  },
  {
   "cell_type": "code",
   "execution_count": 1,
   "id": "82c81f5a-b1d3-4c01-94b6-2f748d071103",
   "metadata": {},
   "outputs": [
    {
     "name": "stdout",
     "output_type": "stream",
     "text": [
      "Collecting scikit-image\n",
      "  Downloading scikit_image-0.18.1-cp38-cp38-win_amd64.whl (12.2 MB)\n",
      "Requirement already satisfied: numpy>=1.16.5 in d:\\esimp\\computing\\bsl fingerspelling recognition\\bslfsr_venv\\lib\\site-packages (from scikit-image) (1.20.3)\n",
      "Collecting networkx>=2.0\n",
      "  Downloading networkx-2.5.1-py3-none-any.whl (1.6 MB)\n",
      "Collecting tifffile>=2019.7.26\n",
      "  Downloading tifffile-2021.6.6-py3-none-any.whl (168 kB)\n",
      "Collecting PyWavelets>=1.1.1\n",
      "  Downloading PyWavelets-1.1.1-cp38-cp38-win_amd64.whl (4.3 MB)\n",
      "Requirement already satisfied: pillow!=7.1.0,!=7.1.1,>=4.3.0 in d:\\esimp\\computing\\bsl fingerspelling recognition\\bslfsr_venv\\lib\\site-packages (from scikit-image) (8.2.0)\n",
      "Requirement already satisfied: matplotlib!=3.0.0,>=2.0.0 in d:\\esimp\\computing\\bsl fingerspelling recognition\\bslfsr_venv\\lib\\site-packages (from scikit-image) (3.4.2)\n",
      "Collecting imageio>=2.3.0\n",
      "  Downloading imageio-2.9.0-py3-none-any.whl (3.3 MB)\n",
      "Collecting scipy>=1.0.1\n",
      "  Downloading scipy-1.6.3-cp38-cp38-win_amd64.whl (32.7 MB)\n",
      "Requirement already satisfied: python-dateutil>=2.7 in d:\\esimp\\computing\\bsl fingerspelling recognition\\bslfsr_venv\\lib\\site-packages (from matplotlib!=3.0.0,>=2.0.0->scikit-image) (2.8.1)\n",
      "Requirement already satisfied: cycler>=0.10 in d:\\esimp\\computing\\bsl fingerspelling recognition\\bslfsr_venv\\lib\\site-packages (from matplotlib!=3.0.0,>=2.0.0->scikit-image) (0.10.0)\n",
      "Requirement already satisfied: pyparsing>=2.2.1 in d:\\esimp\\computing\\bsl fingerspelling recognition\\bslfsr_venv\\lib\\site-packages (from matplotlib!=3.0.0,>=2.0.0->scikit-image) (2.4.7)\n",
      "Requirement already satisfied: kiwisolver>=1.0.1 in d:\\esimp\\computing\\bsl fingerspelling recognition\\bslfsr_venv\\lib\\site-packages (from matplotlib!=3.0.0,>=2.0.0->scikit-image) (1.3.1)\n",
      "Requirement already satisfied: six in d:\\esimp\\computing\\bsl fingerspelling recognition\\bslfsr_venv\\lib\\site-packages (from cycler>=0.10->matplotlib!=3.0.0,>=2.0.0->scikit-image) (1.15.0)\n",
      "Collecting decorator<5,>=4.3\n",
      "  Downloading decorator-4.4.2-py2.py3-none-any.whl (9.2 kB)\n",
      "Installing collected packages: decorator, tifffile, scipy, PyWavelets, networkx, imageio, scikit-image\n",
      "  Attempting uninstall: decorator\n",
      "    Found existing installation: decorator 5.0.9\n",
      "    Uninstalling decorator-5.0.9:\n",
      "      Successfully uninstalled decorator-5.0.9\n",
      "Successfully installed PyWavelets-1.1.1 decorator-4.4.2 imageio-2.9.0 networkx-2.5.1 scikit-image-0.18.1 scipy-1.6.3 tifffile-2021.6.6\n"
     ]
    }
   ],
   "source": [
    "!pip install scikit-image"
   ]
  },
  {
   "cell_type": "code",
   "execution_count": 1,
   "id": "fbcd0bca-2acf-4c42-a550-1076b0316fd0",
   "metadata": {},
   "outputs": [
    {
     "name": "stdout",
     "output_type": "stream",
     "text": [
      "Collecting skimage"
     ]
    },
    {
     "name": "stderr",
     "output_type": "stream",
     "text": [
      "    ERROR: Command errored out with exit status 1:\n",
      "     command: 'd:\\esimp\\computing\\bsl fingerspelling recognition\\bslfsr_venv\\scripts\\python.exe' -c 'import io, os, sys, setuptools, tokenize; sys.argv[0] = '\"'\"'C:\\\\Users\\\\esimp\\\\AppData\\\\Local\\\\Temp\\\\pip-install-mhvlwc5t\\\\skimage_698a8b36af1444c597efaec930a7ae8b\\\\setup.py'\"'\"'; __file__='\"'\"'C:\\\\Users\\\\esimp\\\\AppData\\\\Local\\\\Temp\\\\pip-install-mhvlwc5t\\\\skimage_698a8b36af1444c597efaec930a7ae8b\\\\setup.py'\"'\"';f = getattr(tokenize, '\"'\"'open'\"'\"', open)(__file__) if os.path.exists(__file__) else io.StringIO('\"'\"'from setuptools import setup; setup()'\"'\"');code = f.read().replace('\"'\"'\\r\\n'\"'\"', '\"'\"'\\n'\"'\"');f.close();exec(compile(code, __file__, '\"'\"'exec'\"'\"'))' egg_info --egg-base 'C:\\Users\\esimp\\AppData\\Local\\Temp\\pip-pip-egg-info-2lj9y_vj'\n",
      "         cwd: C:\\Users\\esimp\\AppData\\Local\\Temp\\pip-install-mhvlwc5t\\skimage_698a8b36af1444c597efaec930a7ae8b\\\n",
      "    Complete output (3 lines):\n",
      "    \n",
      "    *** Please install the `scikit-image` package (instead of `skimage`) ***\n",
      "    \n",
      "    ----------------------------------------\n",
      "WARNING: Discarding https://files.pythonhosted.org/packages/3b/ee/edbfa69ba7b7d9726e634bfbeefd04b5a1764e9e74867ec916113eeaf4a1/skimage-0.0.tar.gz#sha256=6c96a11d9deea68489c9b80b38fad1dcdab582c36d4fa093b99b24a3b30c38ec (from https://pypi.org/simple/skimage/). Command errored out with exit status 1: python setup.py egg_info Check the logs for full command output.\n",
      "ERROR: Could not find a version that satisfies the requirement skimage (from versions: 0.0)\n",
      "ERROR: No matching distribution found for skimage\n"
     ]
    },
    {
     "name": "stdout",
     "output_type": "stream",
     "text": [
      "\n",
      "  Downloading skimage-0.0.tar.gz (757 bytes)\n"
     ]
    }
   ],
   "source": [
    "!pip install skimage --upgrade"
   ]
  },
  {
   "cell_type": "code",
   "execution_count": 2,
   "id": "ca4a73b3-7bc6-46eb-a984-827a71c2c8ba",
   "metadata": {},
   "outputs": [
    {
     "name": "stdout",
     "output_type": "stream",
     "text": [
      "Collecting imutils\n",
      "  Downloading imutils-0.5.4.tar.gz (17 kB)\n",
      "Using legacy 'setup.py install' for imutils, since package 'wheel' is not installed.\n",
      "Installing collected packages: imutils\n",
      "    Running setup.py install for imutils: started\n",
      "    Running setup.py install for imutils: finished with status 'done'\n",
      "Successfully installed imutils-0.5.4\n"
     ]
    }
   ],
   "source": [
    "!pip install imutils --upgrade"
   ]
  },
  {
   "cell_type": "code",
   "execution_count": 3,
   "id": "888483a9-ab1f-497a-b749-89adc50ac268",
   "metadata": {},
   "outputs": [
    {
     "name": "stdout",
     "output_type": "stream",
     "text": [
      "Requirement already satisfied: threaded in d:\\esimp\\computing\\bsl fingerspelling recognition\\bslfsr_venv\\lib\\site-packages (4.1.0)\n"
     ]
    }
   ],
   "source": [
    "!pip install threaded --upgrade"
   ]
  },
  {
   "cell_type": "code",
   "execution_count": 1,
   "id": "dfaef5f1-d393-47d5-b990-abd11db0438f",
   "metadata": {},
   "outputs": [
    {
     "name": "stdout",
     "output_type": "stream",
     "text": [
      "Collecting numba\n",
      "  Downloading numba-0.53.1-cp38-cp38-win_amd64.whl (2.3 MB)\n",
      "Collecting llvmlite<0.37,>=0.36.0rc1\n",
      "  Downloading llvmlite-0.36.0-cp38-cp38-win_amd64.whl (16.0 MB)\n",
      "Requirement already satisfied: numpy>=1.15 in d:\\esimp\\computing\\bsl fingerspelling recognition\\bslfsr_venv\\lib\\site-packages (from numba) (1.20.3)\n",
      "Requirement already satisfied: setuptools in d:\\esimp\\computing\\bsl fingerspelling recognition\\bslfsr_venv\\lib\\site-packages (from numba) (49.2.1)\n",
      "Installing collected packages: llvmlite, numba\n",
      "Successfully installed llvmlite-0.36.0 numba-0.53.1\n"
     ]
    }
   ],
   "source": [
    "!pip install numba"
   ]
  },
  {
   "cell_type": "code",
   "execution_count": 1,
   "id": "804e6d54-8757-4d8d-b20f-279656cb19b8",
   "metadata": {},
   "outputs": [
    {
     "name": "stdout",
     "output_type": "stream",
     "text": [
      "Package                 Version\n",
      "----------------------- -------------------\n",
      "absl-py                 0.13.0\n",
      "astunparse              1.6.3\n",
      "backcall                0.2.0\n",
      "cachetools              4.2.2\n",
      "certifi                 2021.5.30\n",
      "chardet                 4.0.0\n",
      "colorama                0.4.4\n",
      "cycler                  0.10.0\n",
      "decorator               4.4.2\n",
      "flatbuffers             1.12\n",
      "gast                    0.4.0\n",
      "google-auth             1.31.0\n",
      "google-auth-oauthlib    0.4.4\n",
      "google-pasta            0.2.0\n",
      "grpcio                  1.34.1\n",
      "h5py                    3.1.0\n",
      "idna                    2.10\n",
      "imageio                 2.9.0\n",
      "imutils                 0.5.4\n",
      "ipykernel               5.5.5\n",
      "ipython                 7.24.1\n",
      "ipython-genutils        0.2.0\n",
      "jedi                    0.18.0\n",
      "jupyter-client          6.1.12\n",
      "jupyter-core            4.7.1\n",
      "keras-nightly           2.5.0.dev2021032900\n",
      "Keras-Preprocessing     1.1.2\n",
      "kiwisolver              1.3.1\n",
      "llvmlite                0.36.0\n",
      "Markdown                3.3.4\n",
      "matplotlib              3.4.2\n",
      "matplotlib-inline       0.1.2\n",
      "networkx                2.5.1\n",
      "numba                   0.53.1\n",
      "numpy                   1.19.5\n",
      "oauthlib                3.1.1\n",
      "opencv-python           4.5.2.54\n",
      "opt-einsum              3.3.0\n",
      "parso                   0.8.2\n",
      "pickleshare             0.7.5\n",
      "Pillow                  8.2.0\n",
      "pip                     21.1.2\n",
      "prompt-toolkit          3.0.18\n",
      "protobuf                3.17.3\n",
      "pyasn1                  0.4.8\n",
      "pyasn1-modules          0.2.8\n",
      "Pygments                2.9.0\n",
      "pyparsing               2.4.7\n",
      "python-dateutil         2.8.1\n",
      "PyWavelets              1.1.1\n",
      "pywin32                 300\n",
      "pyzmq                   22.1.0\n",
      "requests                2.25.1\n",
      "requests-oauthlib       1.3.0\n",
      "rsa                     4.7.2\n",
      "scikit-image            0.18.1\n",
      "scipy                   1.6.3\n",
      "setuptools              49.2.1\n",
      "six                     1.15.0\n",
      "tensorboard             2.5.0\n",
      "tensorboard-data-server 0.6.1\n",
      "tensorboard-plugin-wit  1.8.0\n",
      "tensorflow              2.5.0\n",
      "tensorflow-estimator    2.5.0\n",
      "tensorflow-gpu          2.5.0\n",
      "termcolor               1.1.0\n",
      "threaded                4.1.0\n",
      "tifffile                2021.6.6\n",
      "tornado                 6.1\n",
      "traitlets               5.0.5\n",
      "typing-extensions       3.7.4.3\n",
      "urllib3                 1.26.5\n",
      "wcwidth                 0.2.5\n",
      "Werkzeug                2.0.1\n",
      "wget                    3.2\n",
      "wheel                   0.36.2\n",
      "wrapt                   1.12.1\n"
     ]
    }
   ],
   "source": [
    "!pip list"
   ]
  },
  {
   "cell_type": "code",
   "execution_count": 3,
   "id": "e48bf115-14bb-4b75-adc6-9d87b5bba022",
   "metadata": {},
   "outputs": [
    {
     "name": "stdout",
     "output_type": "stream",
     "text": [
      "Collecting sympy\n",
      "  Downloading sympy-1.8-py3-none-any.whl (6.1 MB)\n",
      "Collecting mpmath>=0.19\n",
      "  Downloading mpmath-1.2.1-py3-none-any.whl (532 kB)\n",
      "Installing collected packages: mpmath, sympy\n",
      "Successfully installed mpmath-1.2.1 sympy-1.8\n"
     ]
    }
   ],
   "source": [
    "!pip install sympy --upgrade"
   ]
  },
  {
   "cell_type": "code",
   "execution_count": 1,
   "id": "0066884e-8ec8-462f-af19-aa4b25b3284a",
   "metadata": {},
   "outputs": [
    {
     "name": "stdout",
     "output_type": "stream",
     "text": [
      "Requirement already satisfied: imageio in d:\\esimp\\computing\\bsl fingerspelling recognition\\bslfsr_venv\\lib\\site-packages (2.9.0)\n",
      "Requirement already satisfied: pillow in d:\\esimp\\computing\\bsl fingerspelling recognition\\bslfsr_venv\\lib\\site-packages (from imageio) (8.2.0)\n",
      "Requirement already satisfied: numpy in d:\\esimp\\computing\\bsl fingerspelling recognition\\bslfsr_venv\\lib\\site-packages (from imageio) (1.19.5)\n"
     ]
    }
   ],
   "source": [
    "!pip install imageio"
   ]
  },
  {
   "cell_type": "code",
   "execution_count": 1,
   "id": "c57b4a8f-bc8f-4332-99df-00c247904db5",
   "metadata": {},
   "outputs": [
    {
     "name": "stdout",
     "output_type": "stream",
     "text": [
      "Collecting seaborn"
     ]
    },
    {
     "name": "stderr",
     "output_type": "stream",
     "text": [
      "WARNING: You are using pip version 21.1.2; however, version 21.1.3 is available.\n",
      "You should consider upgrading via the 'd:\\esimp\\computing\\bsl fingerspelling recognition\\bslfsr_venv\\scripts\\python.exe -m pip install --upgrade pip' command.\n"
     ]
    },
    {
     "name": "stdout",
     "output_type": "stream",
     "text": [
      "\n",
      "  Downloading seaborn-0.11.1-py3-none-any.whl (285 kB)\n",
      "Collecting pandas>=0.23\n",
      "  Downloading pandas-1.2.5-cp38-cp38-win_amd64.whl (9.3 MB)\n",
      "Requirement already satisfied: matplotlib>=2.2 in d:\\esimp\\computing\\bsl fingerspelling recognition\\bslfsr_venv\\lib\\site-packages (from seaborn) (3.4.2)\n",
      "Requirement already satisfied: scipy>=1.0 in d:\\esimp\\computing\\bsl fingerspelling recognition\\bslfsr_venv\\lib\\site-packages (from seaborn) (1.6.3)\n",
      "Requirement already satisfied: numpy>=1.15 in d:\\esimp\\computing\\bsl fingerspelling recognition\\bslfsr_venv\\lib\\site-packages (from seaborn) (1.19.5)\n",
      "Requirement already satisfied: python-dateutil>=2.7 in d:\\esimp\\computing\\bsl fingerspelling recognition\\bslfsr_venv\\lib\\site-packages (from matplotlib>=2.2->seaborn) (2.8.1)\n",
      "Requirement already satisfied: kiwisolver>=1.0.1 in d:\\esimp\\computing\\bsl fingerspelling recognition\\bslfsr_venv\\lib\\site-packages (from matplotlib>=2.2->seaborn) (1.3.1)\n",
      "Requirement already satisfied: pillow>=6.2.0 in d:\\esimp\\computing\\bsl fingerspelling recognition\\bslfsr_venv\\lib\\site-packages (from matplotlib>=2.2->seaborn) (8.2.0)\n",
      "Requirement already satisfied: pyparsing>=2.2.1 in d:\\esimp\\computing\\bsl fingerspelling recognition\\bslfsr_venv\\lib\\site-packages (from matplotlib>=2.2->seaborn) (2.4.7)\n",
      "Requirement already satisfied: cycler>=0.10 in d:\\esimp\\computing\\bsl fingerspelling recognition\\bslfsr_venv\\lib\\site-packages (from matplotlib>=2.2->seaborn) (0.10.0)\n",
      "Requirement already satisfied: six in d:\\esimp\\computing\\bsl fingerspelling recognition\\bslfsr_venv\\lib\\site-packages (from cycler>=0.10->matplotlib>=2.2->seaborn) (1.15.0)\n",
      "Collecting pytz>=2017.3\n",
      "  Using cached pytz-2021.1-py2.py3-none-any.whl (510 kB)\n",
      "Installing collected packages: pytz, pandas, seaborn\n",
      "Successfully installed pandas-1.2.5 pytz-2021.1 seaborn-0.11.1\n"
     ]
    }
   ],
   "source": [
    "!pip install seaborn --upgrade"
   ]
  },
  {
   "cell_type": "code",
   "execution_count": 1,
   "id": "b3cd8d0d-154f-4af0-9628-8b58cbab5f0f",
   "metadata": {},
   "outputs": [
    {
     "name": "stdout",
     "output_type": "stream",
     "text": [
      "Collecting pydot\n",
      "  Downloading pydot-1.4.2-py2.py3-none-any.whl (21 kB)\n",
      "Requirement already satisfied: pyparsing>=2.1.4 in d:\\esimp\\computing\\bsl fingerspelling recognition\\bslfsr_venv\\lib\\site-packages (from pydot) (2.4.7)\n",
      "Installing collected packages: pydot\n"
     ]
    },
    {
     "name": "stderr",
     "output_type": "stream",
     "text": [
      "WARNING: You are using pip version 21.1.2; however, version 21.1.3 is available.\n",
      "You should consider upgrading via the 'd:\\esimp\\computing\\bsl fingerspelling recognition\\bslfsr_venv\\scripts\\python.exe -m pip install --upgrade pip' command.\n"
     ]
    },
    {
     "name": "stdout",
     "output_type": "stream",
     "text": [
      "Successfully installed pydot-1.4.2\n"
     ]
    }
   ],
   "source": [
    "!pip install pydot"
   ]
  },
  {
   "cell_type": "code",
   "execution_count": 5,
   "id": "b70bd944-870a-4470-8fca-c6108264b06c",
   "metadata": {},
   "outputs": [
    {
     "name": "stdout",
     "output_type": "stream",
     "text": [
      "Requirement already satisfied: graphviz in d:\\esimp\\computing\\bsl fingerspelling recognition\\bslfsr_venv\\lib\\site-packages (0.16)\n"
     ]
    },
    {
     "name": "stderr",
     "output_type": "stream",
     "text": [
      "WARNING: You are using pip version 21.1.2; however, version 21.1.3 is available.\n",
      "You should consider upgrading via the 'd:\\esimp\\computing\\bsl fingerspelling recognition\\bslfsr_venv\\scripts\\python.exe -m pip install --upgrade pip' command.\n"
     ]
    }
   ],
   "source": [
    "!pip install graphviz"
   ]
  },
  {
   "cell_type": "code",
   "execution_count": 4,
   "id": "b3622398-b5d6-4746-aedc-81d77b3c0fc4",
   "metadata": {},
   "outputs": [
    {
     "name": "stdout",
     "output_type": "stream",
     "text": [
      "Package                 Version\n",
      "----------------------- -------------------\n",
      "absl-py                 0.13.0\n",
      "astunparse              1.6.3\n",
      "backcall                0.2.0\n",
      "cachetools              4.2.2\n",
      "certifi                 2021.5.30\n",
      "chardet                 4.0.0\n",
      "colorama                0.4.4\n",
      "cycler                  0.10.0\n",
      "decorator               4.4.2\n",
      "flatbuffers             1.12\n",
      "gast                    0.4.0\n",
      "google-auth             1.31.0\n",
      "google-auth-oauthlib    0.4.4\n",
      "google-pasta            0.2.0\n",
      "graphviz                0.16\n",
      "grpcio                  1.34.1\n",
      "h5py                    3.1.0\n",
      "idna                    2.10\n",
      "imageio                 2.9.0\n",
      "imutils                 0.5.4\n",
      "ipykernel               5.5.5\n",
      "ipython                 7.24.1\n",
      "ipython-genutils        0.2.0\n",
      "jedi                    0.18.0\n",
      "jupyter-client          6.1.12\n",
      "jupyter-core            4.7.1\n",
      "keras-nightly           2.5.0.dev2021032900\n",
      "Keras-Preprocessing     1.1.2\n",
      "kiwisolver              1.3.1\n",
      "llvmlite                0.36.0\n",
      "Markdown                3.3.4\n",
      "matplotlib              3.4.2\n"
     ]
    },
    {
     "name": "stderr",
     "output_type": "stream",
     "text": [
      "WARNING: You are using pip version 21.1.2; however, version 21.1.3 is available.\n",
      "You should consider upgrading via the 'd:\\esimp\\computing\\bsl fingerspelling recognition\\bslfsr_venv\\scripts\\python.exe -m pip install --upgrade pip' command.\n"
     ]
    },
    {
     "name": "stdout",
     "output_type": "stream",
     "text": [
      "matplotlib-inline       0.1.2\n",
      "mpmath                  1.2.1\n",
      "networkx                2.5.1\n",
      "numba                   0.53.1\n",
      "numpy                   1.19.5\n",
      "oauthlib                3.1.1\n",
      "opencv-python           4.5.2.54\n",
      "opt-einsum              3.3.0\n",
      "pandas                  1.2.5\n",
      "parso                   0.8.2\n",
      "pickleshare             0.7.5\n",
      "Pillow                  8.2.0\n",
      "pip                     21.1.2\n",
      "prompt-toolkit          3.0.18\n",
      "protobuf                3.17.3\n",
      "pyasn1                  0.4.8\n",
      "pyasn1-modules          0.2.8\n",
      "pydot                   1.4.2\n",
      "Pygments                2.9.0\n",
      "pyparsing               2.4.7\n",
      "python-dateutil         2.8.1\n",
      "pytz                    2021.1\n",
      "PyWavelets              1.1.1\n",
      "pywin32                 300\n",
      "pyzmq                   22.1.0\n",
      "requests                2.25.1\n",
      "requests-oauthlib       1.3.0\n",
      "rsa                     4.7.2\n",
      "scikit-image            0.18.1\n",
      "scimpy                  0.0.dev1\n",
      "scipy                   1.6.3\n",
      "seaborn                 0.11.1\n",
      "setuptools              49.2.1\n",
      "six                     1.15.0\n",
      "sympy                   1.8\n",
      "tensorboard             2.5.0\n",
      "tensorboard-data-server 0.6.1\n",
      "tensorboard-plugin-wit  1.8.0\n",
      "tensorflow              2.5.0\n",
      "tensorflow-estimator    2.5.0\n",
      "tensorflow-gpu          2.5.0\n",
      "termcolor               1.1.0\n",
      "threaded                4.1.0\n",
      "tifffile                2021.6.6\n",
      "tornado                 6.1\n",
      "traitlets               5.0.5\n",
      "typing-extensions       3.7.4.3\n",
      "urllib3                 1.26.5\n",
      "wcwidth                 0.2.5\n",
      "Werkzeug                2.0.1\n",
      "wget                    3.2\n",
      "wheel                   0.36.2\n",
      "wrapt                   1.12.1\n"
     ]
    }
   ],
   "source": [
    "!pip list"
   ]
  },
  {
   "cell_type": "code",
   "execution_count": 2,
   "id": "2d1c6c00-afe4-460d-a9d7-8844398d2cf4",
   "metadata": {},
   "outputs": [
    {
     "name": "stdout",
     "output_type": "stream",
     "text": [
      "Collecting scikit-learn\n",
      "  Downloading scikit_learn-0.24.2-cp38-cp38-win_amd64.whl (6.9 MB)\n",
      "Collecting threadpoolctl>=2.0.0\n",
      "  Downloading threadpoolctl-2.2.0-py3-none-any.whl (12 kB)\n",
      "Collecting joblib>=0.11\n",
      "  Downloading joblib-1.0.1-py3-none-any.whl (303 kB)\n",
      "Requirement already satisfied: numpy>=1.13.3 in d:\\esimp\\computing\\bsl fingerspelling recognition\\bslfsr_venv\\lib\\site-packages (from scikit-learn) (1.19.5)\n",
      "Requirement already satisfied: scipy>=0.19.1 in d:\\esimp\\computing\\bsl fingerspelling recognition\\bslfsr_venv\\lib\\site-packages (from scikit-learn) (1.6.3)\n",
      "Installing collected packages: threadpoolctl, joblib, scikit-learn\n",
      "Successfully installed joblib-1.0.1 scikit-learn-0.24.2 threadpoolctl-2.2.0\n"
     ]
    }
   ],
   "source": [
    "!pip install scikit-learn"
   ]
  },
  {
   "cell_type": "code",
   "execution_count": 1,
   "id": "7563fe59-e368-4f21-9626-a6850bfbd355",
   "metadata": {},
   "outputs": [
    {
     "name": "stdout",
     "output_type": "stream",
     "text": [
      "Collecting selenium\n",
      "  Downloading selenium-3.141.0-py2.py3-none-any.whl (904 kB)\n",
      "Requirement already satisfied: urllib3 in d:\\esimp\\computing\\bsl fingerspelling recognition\\bslfsr_venv\\lib\\site-packages (from selenium) (1.26.5)\n",
      "Installing collected packages: selenium\n",
      "Successfully installed selenium-3.141.0\n"
     ]
    }
   ],
   "source": [
    "!pip install selenium --upgrade"
   ]
  },
  {
   "cell_type": "code",
   "execution_count": 2,
   "id": "69aff9e4-c75f-4c03-aaf2-3d95e7f85071",
   "metadata": {},
   "outputs": [
    {
     "name": "stdout",
     "output_type": "stream",
     "text": [
      "Collecting bs4\n",
      "  Downloading bs4-0.0.1.tar.gz (1.1 kB)\n",
      "Collecting beautifulsoup4\n",
      "  Downloading beautifulsoup4-4.9.3-py3-none-any.whl (115 kB)\n",
      "Collecting soupsieve>1.2\n",
      "  Downloading soupsieve-2.2.1-py3-none-any.whl (33 kB)\n",
      "Building wheels for collected packages: bs4\n",
      "  Building wheel for bs4 (setup.py): started\n",
      "  Building wheel for bs4 (setup.py): finished with status 'done'\n",
      "  Created wheel for bs4: filename=bs4-0.0.1-py3-none-any.whl size=1273 sha256=d6e7bfe2ecbf913d285c2ecce90608e2149c4d4548e4d1f4e9f437da99b793f4\n",
      "  Stored in directory: c:\\users\\esimp\\appdata\\local\\pip\\cache\\wheels\\75\\78\\21\\68b124549c9bdc94f822c02fb9aa3578a669843f9767776bca\n",
      "Successfully built bs4\n",
      "Installing collected packages: soupsieve, beautifulsoup4, bs4\n",
      "Successfully installed beautifulsoup4-4.9.3 bs4-0.0.1 soupsieve-2.2.1\n"
     ]
    }
   ],
   "source": [
    "!pip install bs4 --upgrade"
   ]
  },
  {
   "cell_type": "code",
   "execution_count": 1,
   "id": "f041f9d9-bc02-47d6-ac91-d762967e37be",
   "metadata": {},
   "outputs": [
    {
     "name": "stdout",
     "output_type": "stream",
     "text": [
      "Collecting pyqt5\n",
      "  Using cached PyQt5-5.15.4-cp36.cp37.cp38.cp39-none-win_amd64.whl (6.8 MB)\n",
      "Collecting lxml\n",
      "  Using cached lxml-4.6.3-cp38-cp38-win_amd64.whl (3.5 MB)\n",
      "Collecting PyQt5-Qt5>=5.15\n",
      "  Using cached PyQt5_Qt5-5.15.2-py3-none-win_amd64.whl (50.1 MB)\n",
      "Collecting PyQt5-sip<13,>=12.8\n",
      "  Using cached PyQt5_sip-12.9.0-cp38-cp38-win_amd64.whl (63 kB)\n",
      "Installing collected packages: PyQt5-sip, PyQt5-Qt5, pyqt5, lxml\n",
      "Successfully installed PyQt5-Qt5-5.15.2 PyQt5-sip-12.9.0 lxml-4.6.3 pyqt5-5.15.4\n"
     ]
    }
   ],
   "source": [
    "!pip install --upgrade pyqt5 lxml"
   ]
  },
  {
   "cell_type": "code",
   "execution_count": null,
   "id": "94a3b3af-1167-4b4a-ae0b-cd7d9d464cc8",
   "metadata": {},
   "outputs": [],
   "source": []
  }
 ],
 "metadata": {
  "kernelspec": {
   "display_name": "BSLfsr_venv",
   "language": "python",
   "name": "bslfsr_venv"
  },
  "language_info": {
   "codemirror_mode": {
    "name": "ipython",
    "version": 3
   },
   "file_extension": ".py",
   "mimetype": "text/x-python",
   "name": "python",
   "nbconvert_exporter": "python",
   "pygments_lexer": "ipython3",
   "version": "3.8.8"
  }
 },
 "nbformat": 4,
 "nbformat_minor": 5
}
