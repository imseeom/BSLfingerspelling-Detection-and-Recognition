{
 "cells": [
  {
   "cell_type": "code",
   "execution_count": 2,
   "id": "ff117815-54f6-43e6-a850-eabd2c5d7cbd",
   "metadata": {},
   "outputs": [],
   "source": [
    "import cv2\n",
    "import matplotlib.pyplot as plt\n",
    "import glob\n",
    "import os\n",
    "import datetime"
   ]
  },
  {
   "cell_type": "code",
   "execution_count": 3,
   "id": "fb62cc58-c518-43b6-abd2-4eba4a555863",
   "metadata": {},
   "outputs": [
    {
     "name": "stdout",
     "output_type": "stream",
     "text": [
      "The required directory: 'Image\\CollectedImage\\Hand_Image_Cropped_Further_Blurred_Resized_320\\alphabet_a' has been made.\n",
      "The required directory: 'Image\\CollectedImage\\Hand_Image_Cropped_Further_Blurred_Resized_320\\alphabet_b' has been made.\n",
      "The required directory: 'Image\\CollectedImage\\Hand_Image_Cropped_Further_Blurred_Resized_320\\alphabet_c' has been made.\n",
      "The required directory: 'Image\\CollectedImage\\Hand_Image_Cropped_Further_Blurred_Resized_320\\alphabet_d' has been made.\n",
      "The required directory: 'Image\\CollectedImage\\Hand_Image_Cropped_Further_Blurred_Resized_320\\alphabet_e' has been made.\n",
      "The required directory: 'Image\\CollectedImage\\Hand_Image_Cropped_Further_Blurred_Resized_320\\alphabet_f' has been made.\n",
      "The required directory: 'Image\\CollectedImage\\Hand_Image_Cropped_Further_Blurred_Resized_320\\alphabet_g' has been made.\n",
      "The required directory: 'Image\\CollectedImage\\Hand_Image_Cropped_Further_Blurred_Resized_320\\alphabet_h' has been made.\n",
      "The required directory: 'Image\\CollectedImage\\Hand_Image_Cropped_Further_Blurred_Resized_320\\alphabet_i' has been made.\n",
      "The required directory: 'Image\\CollectedImage\\Hand_Image_Cropped_Further_Blurred_Resized_320\\alphabet_j' has been made.\n",
      "The required directory: 'Image\\CollectedImage\\Hand_Image_Cropped_Further_Blurred_Resized_320\\alphabet_k' has been made.\n",
      "The required directory: 'Image\\CollectedImage\\Hand_Image_Cropped_Further_Blurred_Resized_320\\alphabet_l' has been made.\n",
      "The required directory: 'Image\\CollectedImage\\Hand_Image_Cropped_Further_Blurred_Resized_320\\alphabet_m' has been made.\n",
      "The required directory: 'Image\\CollectedImage\\Hand_Image_Cropped_Further_Blurred_Resized_320\\alphabet_n' has been made.\n",
      "The required directory: 'Image\\CollectedImage\\Hand_Image_Cropped_Further_Blurred_Resized_320\\alphabet_o' has been made.\n",
      "The required directory: 'Image\\CollectedImage\\Hand_Image_Cropped_Further_Blurred_Resized_320\\alphabet_p' has been made.\n",
      "The required directory: 'Image\\CollectedImage\\Hand_Image_Cropped_Further_Blurred_Resized_320\\alphabet_q' has been made.\n",
      "The required directory: 'Image\\CollectedImage\\Hand_Image_Cropped_Further_Blurred_Resized_320\\alphabet_r' has been made.\n",
      "The required directory: 'Image\\CollectedImage\\Hand_Image_Cropped_Further_Blurred_Resized_320\\alphabet_s' has been made.\n",
      "The required directory: 'Image\\CollectedImage\\Hand_Image_Cropped_Further_Blurred_Resized_320\\alphabet_t' has been made.\n",
      "The required directory: 'Image\\CollectedImage\\Hand_Image_Cropped_Further_Blurred_Resized_320\\alphabet_u' has been made.\n",
      "The required directory: 'Image\\CollectedImage\\Hand_Image_Cropped_Further_Blurred_Resized_320\\alphabet_v' has been made.\n",
      "The required directory: 'Image\\CollectedImage\\Hand_Image_Cropped_Further_Blurred_Resized_320\\alphabet_w' has been made.\n",
      "The required directory: 'Image\\CollectedImage\\Hand_Image_Cropped_Further_Blurred_Resized_320\\alphabet_x' has been made.\n",
      "The required directory: 'Image\\CollectedImage\\Hand_Image_Cropped_Further_Blurred_Resized_320\\alphabet_y' has been made.\n",
      "The required directory: 'Image\\CollectedImage\\Hand_Image_Cropped_Further_Blurred_Resized_320\\alphabet_z' has been made.\n",
      "The total time taken: 27.259137\n"
     ]
    }
   ],
   "source": [
    "# Taking note of the starting time to identify the time taken to finish the command\n",
    "start = datetime.datetime.now()\n",
    "\n",
    "IMAGE_HEIGHT = 320\n",
    "\n",
    "# List the categories of the background image\n",
    "hand_type_list = [\"alphabet_a\", \"alphabet_b\", \"alphabet_c\", \"alphabet_d\", \"alphabet_e\", \"alphabet_f\", \"alphabet_g\", \"alphabet_h\", \"alphabet_i\", \"alphabet_j\", \"alphabet_k\",\n",
    "                  \"alphabet_l\", \"alphabet_m\", \"alphabet_n\", \"alphabet_o\", \"alphabet_p\", \"alphabet_q\", \"alphabet_r\", \"alphabet_s\", \"alphabet_t\", \"alphabet_u\", \"alphabet_v\",\n",
    "                  \"alphabet_w\", \"alphabet_x\", \"alphabet_y\", \"alphabet_z\"]\n",
    "\n",
    "for hand_type in hand_type_list:\n",
    "    # Retrieve a whole list of all the hand fingerspelling images path (within the hand image directory regardless of its subdirectory)\n",
    "    hand_img_list = glob.glob('Image/CollectedImage/Hand_Image_Cropped_Further/{}/*.png'.format(hand_type))\n",
    "    # Directory for the output cropped hand images, if not exists, create the folder\n",
    "    # NOTE: backslash is used for a Windows commmand as seen below: !mkdir\n",
    "    output_hand_dir = r\"Image\\CollectedImage\\Hand_Image_Cropped_Further_Blurred_Resized_{}\\{}\".format(IMAGE_HEIGHT, hand_type)\n",
    "    \n",
    "    # Create the directory if the required directory for storing the images does not exist\n",
    "    if os.path.exists(output_hand_dir):\n",
    "        print(\"The directory: '{}' already exists.\".format(output_hand_dir))\n",
    "        pass\n",
    "    else:\n",
    "        # Using !mkdir will create the entire path even if a certain directory does not exist\n",
    "        os.makedirs(output_hand_dir)\n",
    "        print(\"The required directory: '{}' has been made.\".format(output_hand_dir))\n",
    "\n",
    "    # For each input image, resize them into the desired size without changing the aspect ratio\n",
    "    for i, hand_img in enumerate(hand_img_list):\n",
    "        # Loads the image from the image path\n",
    "        img = cv2.imread(hand_img)\n",
    "        # Blur the image to remove the noise before the image gets shrunk down\n",
    "        img = cv2.medianBlur(img, 3)\n",
    "        img_row = img.shape[0] # Height of the image (How many rows are there?)\n",
    "        img_col = img.shape[1] # Width of the image (How many columns are there?)\n",
    "        aspect_ratio = img_col / img_row\n",
    "        # Resize the image according to the required image height (num of rows) without altering the aspect ratio\n",
    "        img_resize = cv2.resize(src=img, dsize=(int(aspect_ratio*IMAGE_HEIGHT),IMAGE_HEIGHT)) # dsize is in the format of (width, height)\n",
    "        # Save the resized image into the specific directory\n",
    "        cv2.imwrite(os.path.join(output_hand_dir, \"{}_{:02}.jpg\".format(hand_type.lower(), i)), img_resize)\n",
    "\n",
    "# Calculate the time taken to finish the entire resizing command\n",
    "diff = (datetime.datetime.now() - start).total_seconds()\n",
    "print(\"The total time taken: {}\".format(diff))"
   ]
  },
  {
   "cell_type": "code",
   "execution_count": null,
   "id": "18e3b09f-c991-4868-8a49-8f537156f54f",
   "metadata": {},
   "outputs": [],
   "source": []
  }
 ],
 "metadata": {
  "kernelspec": {
   "display_name": "BSLfsr_venv",
   "language": "python",
   "name": "bslfsr_venv"
  },
  "language_info": {
   "codemirror_mode": {
    "name": "ipython",
    "version": 3
   },
   "file_extension": ".py",
   "mimetype": "text/x-python",
   "name": "python",
   "nbconvert_exporter": "python",
   "pygments_lexer": "ipython3",
   "version": "3.8.8"
  }
 },
 "nbformat": 4,
 "nbformat_minor": 5
}
